{
 "cells": [
  {
   "cell_type": "markdown",
   "metadata": {},
   "source": [
    "### Analisis_Detector_Silicio"
   ]
  },
  {
   "cell_type": "markdown",
   "metadata": {},
   "source": [
    "Caracterización de diodos de silicio. El proceso consiste en estimar el ancho e la zona de deplexión $w$, el voltaje de la zona de deplexión $V_{dep}$ y la concentración de dopaje effectiva $N_{eff}$ desde las mediciones CV del diodo.\n",
    "\n",
    "El ancho de a zona de deplexión se define como\n",
    "\n",
    "$$w = \\sqrt{\\frac{2\\varepsilon V_{dep}}{e |N_{eff}|}}$$\n",
    "\n",
    "donde $\\varepsilon$ es la permitividad del material, $e$ es la carga del electrón y $N_{eff}$ el dopaje efectivo del material.\n",
    "\n",
    "El voltaje de deplexión se estima con la fórmula\n",
    "\n",
    "$$V_{dep}= \\frac{n_2-n_1}{k_1-k_2}$$\n",
    "\n",
    "donde $n$ y $k$ son el intercepto y la pendiente de la recta ajustada a las mediciones CV.\n",
    "\n",
    "La concentración de dopaje efectiva se deriva de\n",
    "\n",
    "$$|N_{eff}|= \\frac{2}{A^2\\varepsilon e} \\frac{dV}{d(1/C^2)}$$\n",
    "\n",
    "donde $\\frac{dV}{d(1/C^2)}$ es la pendiente del ajuste lineal de la curva C2V.\n"
   ]
  },
  {
   "cell_type": "code",
   "execution_count": 1,
   "metadata": {
    "collapsed": true
   },
   "outputs": [],
   "source": [
    "import numpy as np\n",
    "import matplotlib.pyplot as plt\n",
    "from scipy.optimize import curve_fit\n",
    "\n",
    "%matplotlib inline"
   ]
  },
  {
   "cell_type": "code",
   "execution_count": 41,
   "metadata": {
    "collapsed": true
   },
   "outputs": [],
   "source": [
    "def CV(data,  A):#, v1, v2, v3, v4):\n",
    "    \n",
    "    eR = 11.9;     # Silicon relative dielectric constant\n",
    "    e0 = 8.85e-14; # Permittivity of free space [F/cm]\n",
    "    q0 = 1.6e-19;  # Electron electric charge [C]\n",
    "    \n",
    "    V = data[:,0]  # Capacitance-voltage measurements\n",
    "    C = data[:,1]\n",
    "    \n",
    "    # Plotting input data\n",
    "    \n",
    "    plt.figure(figsize =(7,5))\n",
    "    plt.plot(V,C, 'ob', fillstyle = 'none')\n",
    "    plt.xlabel(\"V$_{bias}$ [V]\", fontsize=15)\n",
    "    plt.ylabel(\"C [F]\", fontsize=15)\n",
    "    plt.grid()\n",
    "    plt.show()\n",
    "\n",
    "    c = np.abs(C)\n",
    "    v = np.abs(V)\n",
    "    logC = np.log10(c)\n",
    "    logV = np.log10(v)\n",
    "    C2 = 1/c/c\n",
    "    \n",
    "    # Funcion de ajuste\n",
    "    def loglin(x, a, b):\n",
    "        return a + b*x\n",
    "    \n",
    "    logv1 = 2\n",
    "    logv2 = 11\n",
    "    logv3 = 19\n",
    "    logv4 = 100\n",
    "    N = 101   # fit points\n",
    "\n",
    "    # Depletion voltage extraction\n",
    "    \n",
    "    # logClogV curve fitting\n",
    "    \n",
    "    initial_guess = [0, 0]\n",
    "    pars1, pcov1 = curve_fit(loglin, logV[logv1:logv2], logC[logv1:logv2], p0=initial_guess)\n",
    "    pars2, pcov2 = curve_fit(loglin, logV[logv3:logv4], logC[logv3:logv4], p0=initial_guess)\n",
    "\n",
    "    xloglin1 = np.linspace(logV[logv1],logV[logv2],N)\n",
    "    yloglin1 = loglin(logV[logv1:logv2], pars1[0], pars1[1])\n",
    "\n",
    "    xloglin2 = np.linspace(0.8,2,N)\n",
    "    yloglin2 = loglin(logV[logv3:logv4], pars2[0], pars2[1])\n",
    "\n",
    "    # Fit parameters q = intercept, m = slope\n",
    "\n",
    "    logq1 = pars1[0]\n",
    "    logq2 = pars2[0]\n",
    "    logm1 = pars1[1]\n",
    "    logm2 = pars2[1]\n",
    "\n",
    "    # Fit errors\n",
    "    perr1 = np.sqrt(np.diag(pcov1))\n",
    "    perr2= np.sqrt(np.diag(pcov2))\n",
    "\n",
    "    elogq1 = perr1[0]\n",
    "    elogq2 = perr2[0]\n",
    "    elogm1 = perr1[1]\n",
    "    elogm2 = perr2[1]\n",
    "\n",
    "    chi1 = np.sum(((yloglin1-logC[logv1:logv2])/np.std(logV[logv1:logv2]))**2)\n",
    "    chi2 = np.sum(((yloglin2-logC[logv3:logv4])/np.std(logV[logv3:logv4]))**2)\n",
    "    \n",
    "    \n",
    "    logvdep = (logq1-logq2)/(logm2-logm1)\n",
    "    vdepl = pow(10., logvdep)  # depletion voltage\n",
    "\n",
    "    Deltam = np.sqrt(elogm1**2 + elogm2**2)\n",
    "    Deltaq = np.sqrt(elogq1**2 + elogq2**2)\n",
    "\n",
    "    evdepl = np.sqrt(pow(Deltaq,2.)/pow((logm2-logm1),2.) + pow(Deltam,2.)*pow((logq1-logq2),2.)/pow((logm2-logm1),2.))\n",
    "    evdepl = pow(10., evdepl)\n",
    "    \n",
    "    # Plotting\n",
    "    \n",
    "    plt.figure(figsize =(7,5))\n",
    "    plt.plot(logV,logC, 'ob', fillstyle = 'none')\n",
    "    plt.plot(logV[logv1:logv2],yloglin1, 'r')\n",
    "    plt.plot(logV[logv3:logv4],yloglin2, 'b')\n",
    "    plt.xlabel(\"log$_{10}$ [V$_{bias}$/V]\", fontsize=15)\n",
    "    plt.ylabel(\"log$_{10}$ [C/F]\", fontsize=15)\n",
    "    plt.xlim([0,2])\n",
    "    plt.grid()\n",
    "    plt.show()\n",
    "    \n",
    "    # Effective doping concentration estimation\n",
    "    \n",
    "    # C2V curve fitting\n",
    "    \n",
    "    initial_guess = [0, 0]\n",
    "    pars3, pcov3 = curve_fit(loglin, V[logv1:logv2], C2[logv1:logv2]/1e23, p0=initial_guess)\n",
    "\n",
    "    xloglin3 = np.linspace(V[logv1],V[logv2],N)\n",
    "    yloglin3 = loglin(V[logv1:logv2], pars3[0], pars3[1])*1e23\n",
    "\n",
    "    # Fit parameters\n",
    "\n",
    "    Vder = pars3[0]*1e23\n",
    "    C2der = pars3[1]*1e23\n",
    "\n",
    "    # Fit errors\n",
    "    perr3 = np.sqrt(np.diag(pcov3))\n",
    "\n",
    "    eVder = perr3[0]*1e23\n",
    "    eC2der = perr3[1]*1e23\n",
    "\n",
    "    chi3 = np.sum(((yloglin3-C2[logv1:logv2])/np.std(V[logv1:logv2]))**2)\n",
    "    \n",
    "    neff = 2./A/A/q0/eR/e0/C2der\n",
    "    eneff = 2./A/A/q0/eR/e0/C2der/C2der*eC2der\n",
    "\n",
    "    w = pow(2.*eR*e0*vdepl/q0/neff,0.5)\n",
    "\n",
    "    ewA = 2*eR*e0/q0\n",
    "    ewA = pow(ewA,0.5)\n",
    "\n",
    "    ewNeff = 0.5*ewA*pow(vdepl,0.5)*pow(neff,-1.5)*eneff\n",
    "    ewV = 0.5*ewA*pow(vdepl,-0.5)*pow(neff,-0.5)*evdepl\n",
    "\n",
    "    ew = np.sqrt(ewNeff*ewNeff+ewV*ewV)\n",
    "    \n",
    "    plt.figure(figsize =(7,5))\n",
    "    plt.plot(V,C2, 'ob', fillstyle = 'none')\n",
    "    plt.plot(V[logv1:logv2],yloglin3, 'r')\n",
    "    plt.xlabel(\"V $_{bias}$[V]\", fontsize=15)\n",
    "    plt.ylabel(\"C$^2$ [F$^2$]\", fontsize=15)\n",
    "    plt.grid()\n",
    "    plt.show()\n",
    "    \n",
    "    # Printing resulta\n",
    "    \n",
    "    print (\"*********************************\")\n",
    "    print (\"Chi2      = %f\" % chi1)\n",
    "    print (\"p0        = %f +/- %f\" % (logq1, elogq1))\n",
    "    print (\"p1        = %f +/- %f\\n\" % (logm1, elogm1))\n",
    "\n",
    "    print (\"*********************************\")\n",
    "    print (\"Chi2      = %e\" % chi2)\n",
    "    print (\"p0        = %f +/- %f\" % (logq2, elogq2))\n",
    "    print (\"p1        = %f +/- %f\\n\" % (logm2, elogm2))\n",
    "\n",
    "    print (\"*********************************\")\n",
    "    print (\"Chi2      = %e\" % chi3)\n",
    "    print (\"p0        = %e +/- %e\" % (Vder, eVder))\n",
    "    print (\"p1        = %e +/- %e\\n\" % (C2der, eC2der))\n",
    "\n",
    "    print (\"v1 = %f V\" % V[logv1])\n",
    "    print (\"v2 = %f V\" % V[logv2])\n",
    "    print (\"v3 = %f V\" % V[logv3])\n",
    "    print (\"v4 = %f V\" % V[logv4])\n",
    "\n",
    "    print (\"vdepl = %f V\" % vdepl)\n",
    "    print (\"evdepl = %f V\" % evdepl)\n",
    "\n",
    "    print (\"neff = %e 1./cm^3\" % neff)\n",
    "    print (\"eneff = %e 1./cm^3\" % eneff)\n",
    "    print (\"w = %f um\" % (w*1e+4))\n",
    "    print (\"ew = %f um\" % (ew*1e+4))"
   ]
  },
  {
   "cell_type": "code",
   "execution_count": 32,
   "metadata": {
    "collapsed": true
   },
   "outputs": [],
   "source": [
    "CV_data = np.loadtxt('CV_10kHz.txt')\n",
    "V = CV_data[:,0]\n",
    "C = CV_data[:,1]"
   ]
  },
  {
   "cell_type": "code",
   "execution_count": 42,
   "metadata": {
    "collapsed": false
   },
   "outputs": [
    {
     "data": {
      "image/png": "[encoded data removed]",
      "text/plain": [
       "<matplotlib.figure.Figure at 0x7f0007a3ee90>"
      ]
     },
     "metadata": {},
     "output_type": "display_data"
    },
    {
     "data": {
      "image/png": "[encoded data removed]",
      "text/plain": [
       "<matplotlib.figure.Figure at 0x7f00344aced0>"
      ]
     },
     "metadata": {},
     "output_type": "display_data"
    },
    {
     "data": {
      "image/png": "[encoded data removed]",
      "text/plain": [
       "<matplotlib.figure.Figure at 0x7f000731a5d0>"
      ]
     },
     "metadata": {},
     "output_type": "display_data"
    },
    {
     "name": "stdout",
     "output_type": "stream",
     "text": [
      "*********************************\n",
      "Chi2      = 0.034866\n",
      "p0        = -11.095447 +/- 0.011347\n",
      "p1        = -0.520365 +/- 0.023525\n",
      "\n",
      "*********************************\n",
      "Chi2      = 1.201541e-03\n",
      "p0        = -11.512260 +/- 0.000625\n",
      "p1        = 0.002267 +/- 0.000433\n",
      "\n",
      "*********************************\n",
      "Chi2      = 5.226453e+43\n",
      "p0        = 1.466408e+21 +/- 2.980421e+21\n",
      "p1        = 1.576831e+22 +/- 9.108217e+20\n",
      "\n",
      "v1 = 0.975400 V\n",
      "v2 = 5.500200 V\n",
      "v3 = 9.450000 V\n",
      "v4 = 50.001400 V\n",
      "vdepl = 6.273741 V\n",
      "evdepl = 1.068368 V\n",
      "neff = 9.292867e+10 1./cm^3\n",
      "eneff = 5.367822e+09 1./cm^3\n",
      "w = 298.118253 um\n",
      "ew = 26.804102 um\n"
     ]
    }
   ],
   "source": [
    "CV(CV_data,  9e-2)"
   ]
  },
  {
   "cell_type": "code",
   "execution_count": null,
   "metadata": {
    "collapsed": true
   },
   "outputs": [],
   "source": []
  }
 ],
 "metadata": {
  "kernelspec": {
   "display_name": "Python 2",
   "language": "python",
   "name": "python2"
  },
  "language_info": {
   "codemirror_mode": {
    "name": "ipython",
    "version": 2
   },
   "file_extension": ".py",
   "mimetype": "text/x-python",
   "name": "python",
   "nbconvert_exporter": "python",
   "pygments_lexer": "ipython2",
   "version": "2.7.6"
  }
 },
 "nbformat": 4,
 "nbformat_minor": 0
}
