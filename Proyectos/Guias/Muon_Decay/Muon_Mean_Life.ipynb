{
 "cells": [
  {
   "cell_type": "markdown",
   "metadata": {},
   "source": [
    "# Medición de la vida media del muón"
   ]
  },
  {
   "cell_type": "markdown",
   "metadata": {},
   "source": [
    "<img src=\"Montaje_Decay-min.png\" style=\"width: 500px;\"/>\n",
    "\n",
    "Este notebook describe el procediminto para la toma de datos, control de parámetros y descarga de datos para su posterior análisis.\n",
    "\n",
    "El acceso al laboratorio se hace por SSH desde un terminal. Primero debemos ingresar al servidor central Obatala mediante el comando:\n",
    "\n",
    "**`ssh lacongalab@200.16.117.76`**\n",
    "\n",
    "pass: pedir al admin\n",
    "\n",
    "Luego para ingresar al sistema de adquisición del WCD usaremos:\n",
    "\n",
    "**`ssh root@10.1.28.21`**\n",
    "\n",
    "pass: laconga\n",
    "\n",
    "Allí accedemos a la carpeta de la práctica:\n",
    "\n",
    "**`cd /root/lago/lago-daq/`**\n",
    "\n",
    "## Configuración del detector\n",
    "\n",
    "Antes de iniciar la adquisición debemos configurar los parámetros de adquisición. Primero cargamos el firmware al detector mediante el comando:\n",
    "\n",
    "**`./lago -x lago_fpga_vhdl_ram_1200k.xsvf`**\n",
    "\n",
    "Para verificar el estado de los parámetros ejecutamos:\n",
    "\n",
    "**`./lago -a`**\n",
    "\n",
    "La interfaz imprime en pantalla el valor de los umbrales (Trigger Level) y voltaje de polarización del PMT (High Voltage) para los tres canales, así como el modo de tiempo del GPS.\n",
    "\n",
    "Para establecer el voltaje de polarización (700) al PMT ejecutamos:\n",
    "\n",
    "**`./lago -s hv2 700`**\n",
    "\n",
    "Este valor se relaciona linealmente con el valor de voltaje  aplicado. La curva que relaciona este valor y el voltaje de polarización estará en el material de apoyo.\n",
    "\n",
    "Para establecer un valor de umbral de disparo (100 mV) usamos:\n",
    "\n",
    "**`./lago -s t3 100`**\n",
    "\n",
    "Una vez establecido el voltaje de polarización y umbral de discriminación lo podemos verificar ejecutando nuevamente:\n",
    "\n",
    "**`./lago -a`**\n",
    "\n",
    "La adquisición de los datos se hacen mediante el comando:\n",
    "\n",
    "**`./lago -f LACoNGA/File_name`**\n",
    "\n",
    "donde **File_name.dat** es el nombre del archivo de salida en la carpeta **LACoNGA**. Para salir de la adquisición tecleamos CTRL + c.\n",
    "\n",
    "**NOTA :** Tener cuidado con el nombre del archivo, use uno inconfundible ;).\n",
    "\n",
    "\n",
    "## Estimación de la vida media del muón\n",
    "\n",
    "Una vez se determina el voltaje de polarización (700) y el umbral (100 mV) procedemos a adquirir 1 hora de datos. El procesamiento consiste en obtener el histograma de diferencia temporal entre pulsos consecutivos y ajustar la función exponencial que modele el comportamiento. Tener en cuenta la estructura de los datos (LAGO User Guide) y la clase (Detectores Cherenkov).\n",
    "\n",
    "## Descarga de los archivos\n",
    "\n",
    "Ahora debemos copiar los datos a nuestro PC. Para ello primero lo copiamos al servidor **Obatala** y luego a nuestro PC. Desde la carpeta **LACoNGA** ejecutamos:\n",
    "\n",
    "**`scp File_name.dat lacongalab@10.5.5.46:/home/lacongalab`**\n",
    "\n",
    "pass: admin\n",
    "\n",
    "Y ahora desde nuestra carpeta local (en nuestro PC) desde otro terminal ejecutamos:\n",
    "\n",
    "**`scp lacongalab@200.16.117.76:/home/lacongalab/File_name.dat .`**\n",
    "\n",
    "pass: admin\n",
    "\n",
    "En este puto ya tenemos los datos en nuestro PC y podemos procesarlos :) :) :)."
   ]
  },
  {
   "cell_type": "markdown",
   "metadata": {},
   "source": [
    "### Procesamiento"
   ]
  },
  {
   "cell_type": "code",
   "execution_count": 1,
   "metadata": {
    "collapsed": true
   },
   "outputs": [],
   "source": [
    "import matplotlib\n",
    "import numpy as np\n",
    "import matplotlib.pyplot as plt\n",
    "import math\n",
    "import csv, operator\n",
    "import scipy.stats as st\n",
    "from numpy import random\n",
    "import pandas as pd\n",
    "from datetime import datetime\n",
    "from pandas import DataFrame as df\n",
    "\n",
    "matplotlib.pyplot.savefig\n",
    "\n",
    "%matplotlib inline  "
   ]
  },
  {
   "cell_type": "markdown",
   "metadata": {},
   "source": [
    "### Carga de datos ..."
   ]
  },
  {
   "cell_type": "markdown",
   "metadata": {},
   "source": [
    "### "
   ]
  }
 ],
 "metadata": {
  "kernelspec": {
   "display_name": "Python 2",
   "language": "python",
   "name": "python2"
  },
  "language_info": {
   "codemirror_mode": {
    "name": "ipython",
    "version": 2
   },
   "file_extension": ".py",
   "mimetype": "text/x-python",
   "name": "python",
   "nbconvert_exporter": "python",
   "pygments_lexer": "ipython2",
   "version": "2.7.6"
  }
 },
 "nbformat": 4,
 "nbformat_minor": 0
}
