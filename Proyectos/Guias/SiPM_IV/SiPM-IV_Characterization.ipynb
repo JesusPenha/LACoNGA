{
 "cells": [
  {
   "cell_type": "markdown",
   "metadata": {},
   "source": [
    "# Caracterización de la curva IV de un SiPM"
   ]
  },
  {
   "cell_type": "markdown",
   "metadata": {},
   "source": [
    "Este notebook describe el procediminto para la toma de datos, control de parámetros y carga de datos para su posterior análisis.\n",
    "\n",
    "El acceso al laboratorio se hace por SSH desde un terminal. Primero debemos ingresar al servidor central Obatala mediante el comando:\n",
    "\n",
    "**`ssh lacongalab@200.16.117.76`**\n",
    "\n",
    "pass: pedir al admin\n",
    "\n",
    "Luego para ingresar al sistema de adquisición y control del SiPM usaremos:\n",
    "\n",
    "####  Control server\n",
    "\n",
    "**`ssh pi@10.1.28.81`**\n",
    "\n",
    "pass: laconga2021\n",
    "\n",
    "## Adquisición de datos del SiPM\n",
    "\n",
    "Este procedimiento se hace para parametrizar la curva IV del SiPM y determinar su voltaje de ruptura para diferentes temperaturas. Para ello entramos al **Control server**. Allí accedemos a la carpeta de la práctica:\n",
    "\n",
    "**`cd /home/pi/LACoNGA`**\n",
    "\n",
    "Una vez en la carpeta ejecutamos el comando:\n",
    "\n",
    "**`sudo python SiPM_DC.py Ns T V S F? Filename.dat`**\n",
    "\n",
    "donde Ns es el número de muestras a adquirir, T la temperatura que se desea establecer al SiPM, V el voltaje de polarización del SiPM, S el nombre del SiPM (en este caso S13360), F? si se quiere almacenar los datos en un archivo Filename.dat (Y = si, N = no). Si la opción es N, no es necesario colocar nombre de archivo. Un ejemplo del comando sería:\n",
    "\n",
    "**`sudo python SiPM_DC.py 10 25 56 S13360 Y Filename.dat`**\n",
    "\n",
    "En este caso uso el SiPM S13360, tomo 10 muestras a una temperatura de 25 grados polarizando a 56 voltios. Los datos de salida se almacenan en Filename.dat\n",
    "\n",
    "La ejecución almacena e imprime en pantalla Ns muestras del estado del SiPM en 4 columnas (Tiempo, Temperatura, Voltaje y Corriente). Cada muestra se toma cada 2 segundos.\n",
    "\n",
    "**NOTA :** Se recomienda tomar muestras suficientes (150) hasta verificar que la temperatura del SiPM se establece en la requerida. Esto debido a que le SiPM generalmente está a temperatura ambiente del lab (30$ºC$). Una vez se verifique la temperatura llegó al punto deseado se puede proceder a realizar una nueva corrida almacenando los datos.\n",
    "\n",
    "**NOTA :** Tener cuidado con el nombre del archivo, use uno inconfundible ;).\n",
    "\n",
    "**NOTA :** Si la adquisición no imprime en pantalla detenerla usando CTRL + c y hacer una nueva.\n",
    "\n",
    "## Procedimiento\n",
    "\n",
    "Adquirir muestras cambiando el voltaje de polarización del SiPM de 40 V a 60 V con pasos de 2 V para un rango de temperaturas de 10ºC a 40ºC con paso de 5ºC. En cada adquisición se recomienda tomar 100 muestras, es decir, para un valor de temperatura T se toman 100 muestras para cada cambio de voltaje.\n",
    "\n",
    "\n",
    "## Descarga de los archivos\n",
    "\n",
    "Ahora debemos copiar los datos a nuestro PC. Para ello primero lo copiamos al servidor **Obatala** y luego a nuestro PC. Ejecutamos:\n",
    "\n",
    "**`scp File_name.dat lacongalab@10.5.5.46:/home/lacongalab`**\n",
    "\n",
    "pass: admin\n",
    "\n",
    "Y ahora desde nuestra carpeta local (en nuestro PC) desde otro terminal ejecutamos:\n",
    "\n",
    "**`scp lacongalab@200.16.117.76:/home/lacongalab/File_name.dat .`**\n",
    "\n",
    "pass: admin\n",
    "\n",
    "En este puto ya tenemos los datos en nuestro PC y podemos procesarlos :) :) :)."
   ]
  },
  {
   "cell_type": "markdown",
   "metadata": {
    "collapsed": true
   },
   "source": [
    "## Procesamiento"
   ]
  },
  {
   "cell_type": "code",
   "execution_count": 1,
   "metadata": {
    "collapsed": true
   },
   "outputs": [],
   "source": [
    "import numpy as np\n",
    "import matplotlib.pyplot as plt\n",
    "\n",
    "%matplotlib inline  "
   ]
  },
  {
   "cell_type": "markdown",
   "metadata": {
    "collapsed": true
   },
   "source": [
    "### Curvas IV por cada temperatura ..."
   ]
  },
  {
   "cell_type": "markdown",
   "metadata": {},
   "source": [
    "### Estimar voltaje de ruptura para cada curva IV ..."
   ]
  },
  {
   "cell_type": "code",
   "execution_count": null,
   "metadata": {
    "collapsed": true
   },
   "outputs": [],
   "source": []
  }
 ],
 "metadata": {
  "kernelspec": {
   "display_name": "Python 2",
   "language": "python",
   "name": "python2"
  },
  "language_info": {
   "codemirror_mode": {
    "name": "ipython",
    "version": 2
   },
   "file_extension": ".py",
   "mimetype": "text/x-python",
   "name": "python",
   "nbconvert_exporter": "python",
   "pygments_lexer": "ipython2",
   "version": "2.7.6"
  }
 },
 "nbformat": 4,
 "nbformat_minor": 0
}
