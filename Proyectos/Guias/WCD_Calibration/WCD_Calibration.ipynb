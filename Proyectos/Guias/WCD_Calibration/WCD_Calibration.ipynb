{
 "cells": [
  {
   "cell_type": "markdown",
   "metadata": {},
   "source": [
    "# Calibración del detector Cherenkov de agua"
   ]
  },
  {
   "cell_type": "markdown",
   "metadata": {},
   "source": [
    "<img src=\"Montaje_WCD-min.png\" style=\"width: 500px;\"/>\n",
    "\n",
    "Este notebook describe el procediminto para la toma de datos, control de parámetros y descarga de datos para su posterior análisis.\n",
    "\n",
    "El acceso al laboratorio se hace por SSH desde un terminal. Primero debemos ingresar al servidor central Obatala mediante el comando:\n",
    "\n",
    "**`ssh lacongalab@200.16.117.76`**\n",
    "\n",
    "pass: pedir al admin\n",
    "\n",
    "Luego para ingresar al sistema de adquisición del WCD usaremos:\n",
    "\n",
    "**`ssh root@10.1.28.21`**\n",
    "\n",
    "pass: laconga\n",
    "\n",
    "Allí accedemos a la carpeta de la práctica:\n",
    "\n",
    "**`cd /root/lago/lago-daq/`**\n",
    "\n",
    "## Configuración del detector\n",
    "\n",
    "Antes de iniciar la adquisición debemos configurar los parámetros de adquisición. Primero cargamos el firmware al detector mediante el comando:\n",
    "\n",
    "**`./lago -x lago_fpga_vhdl_ram_1200k.xsvf`**\n",
    "\n",
    "Para verificar el estado de los parámetros ejecutamos:\n",
    "\n",
    "**`./lago -a`**\n",
    "\n",
    "La interfaz imprime en pantalla el valor de los umbrales (Trigger Level) y voltaje de polarización del PMT (High Voltage) para los tres canales, así como el modo de tiempo del GPS.\n",
    "\n",
    "Para establecer un voltaje de polarización al PMT ejecutamos:\n",
    "\n",
    "**`./lago -s hv2 xxx`**\n",
    "\n",
    "donde **xxx** es un valor menor a 900. Este valor se relaciona linealmente con el valor de voltaje  aplicado. La curva que relaciona este valor y el voltaje de polarización estará en el material de apoyo.\n",
    " \n",
    "\n",
    "Para establecer un valor de umbral de disparo (Trigger) usamos:\n",
    "\n",
    "**`./lago -s t3 yyy`**\n",
    "\n",
    "en este caso **yyy** es el valor en mV del umbral (mayor a 50).\n",
    "\n",
    "Una vez establecido el voltaje de polarización y umbral de discriminación lo podemos verificar ejecutando nuevamente:\n",
    "\n",
    "**`./lago -a`**\n",
    "\n",
    "La adquisición de los datos se hacen mediante el comando:\n",
    "\n",
    "**`./lago -f LACoNGA/File_name`**\n",
    "\n",
    "donde **File_name** es el inicio del nombre del archivo de salida en la carpeta **LACoNGA**. Para salir de la adquisición tecleamos CTRL + c.\n",
    "\n",
    "**NOTA :** Tener cuidado con el nombre del archivo, use uno inconfundible ;).\n",
    "\n",
    "\n",
    "## Calibración del PMT del detector\n",
    "\n",
    "Para el proceso de calibración del PMT del WCD el estudiante debe tomar 5 minutos de datos con un umbral de 100 mV para cada cambio del voltaje de polarización entre 500 a 900 con paso de 50. Luego se determina el voltaje de polarización óptimo mediante la gráfica de flujo (conteos/s) vs voltaje de polarización ubicando la zona de plateau.\n",
    "\n",
    "\n",
    "## Calibración de la respuesta en energía depositada\n",
    "\n",
    "Una vez se determina el voltaje óptimo de polarización para el umbral de 100 mV procedemos a calibrar la respuesta en energía del WCD. Para ello establecemos el umbral y voltaje óptimo y adquirimos 1 hora de datos. Luego graficamos el histrograma de carga (area de cada pulso adquirido) y determinamos la joroba muónica. Sabiendo la altura del detector (50 cm) y la pérdida de energía del muón en agua determinamos la relación carga/energía de los muones verticales (VEM).\n",
    "\n",
    "## Descarga de los archivos\n",
    "\n",
    "Ahora debemos copiar los datos a nuestro PC. Para ello primero lo copiamos al servidor **Obatala** y luego a nuestro PC. Desde la carpeta **LACoNGA** ejecutamos:\n",
    "\n",
    "**`scp File_name.dat lacongalab@10.5.5.46:/home/lacongalab`**\n",
    "\n",
    "pass: admin\n",
    "\n",
    "Y ahora desde nuestra carpeta local (en nuestro PC) desde otro terminal ejecutamos:\n",
    "\n",
    "**`scp lacongalab@200.16.117.76:/home/lacongalab/File_name.dat .`**\n",
    "\n",
    "pass: admin\n",
    "\n",
    "En este puto ya tenemos los datos en nuestro PC y podemos procesarlos :) :) :)."
   ]
  },
  {
   "cell_type": "markdown",
   "metadata": {},
   "source": [
    "### Procesamiento"
   ]
  },
  {
   "cell_type": "code",
   "execution_count": 1,
   "metadata": {
    "collapsed": true
   },
   "outputs": [],
   "source": [
    "import matplotlib\n",
    "import numpy as np\n",
    "import matplotlib.pyplot as plt\n",
    "import math\n",
    "import csv, operator\n",
    "import scipy.stats as st\n",
    "from numpy import random\n",
    "import pandas as pd\n",
    "from datetime import datetime\n",
    "from pandas import DataFrame as df\n",
    "\n",
    "matplotlib.pyplot.savefig\n",
    "\n",
    "%matplotlib inline  "
   ]
  },
  {
   "cell_type": "markdown",
   "metadata": {},
   "source": [
    "### Calibración del PMT ..."
   ]
  },
  {
   "cell_type": "markdown",
   "metadata": {},
   "source": [
    "### Calibración de la respuesta en energía ..."
   ]
  },
  {
   "cell_type": "code",
   "execution_count": null,
   "metadata": {
    "collapsed": true
   },
   "outputs": [],
   "source": []
  }
 ],
 "metadata": {
  "kernelspec": {
   "display_name": "Python 2",
   "language": "python",
   "name": "python2"
  },
  "language_info": {
   "codemirror_mode": {
    "name": "ipython",
    "version": 2
   },
   "file_extension": ".py",
   "mimetype": "text/x-python",
   "name": "python",
   "nbconvert_exporter": "python",
   "pygments_lexer": "ipython2",
   "version": "2.7.6"
  }
 },
 "nbformat": 4,
 "nbformat_minor": 0
}
