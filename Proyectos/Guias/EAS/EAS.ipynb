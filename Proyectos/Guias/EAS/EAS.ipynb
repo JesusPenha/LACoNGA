{
 "cells": [
  {
   "cell_type": "markdown",
   "metadata": {},
   "source": [
    "# Lluvias aéreas extensas"
   ]
  },
  {
   "cell_type": "markdown",
   "metadata": {},
   "source": [
    "<img src=\"Montaje_EAS-min.png\" style=\"width: 500px;\"/>\n",
    "\n",
    "Este notebook describe el procediminto para la toma de datos, control de parámetros y descarga de datos para su posterior análisis.\n",
    "\n",
    "El acceso al laboratorio se hace por SSH desde un terminal. Primero debemos ingresar al servidor central Obatala mediante el comando:\n",
    "\n",
    "**`ssh lacongalab@200.16.117.76`**\n",
    "\n",
    "pass: pedir al admin\n",
    "\n",
    "Luego para ingresar al sistema de adquisición del detector de centelleo usaremos:\n",
    "\n",
    "**`ssh pi@10.1.28.86`**\n",
    "\n",
    "pass: laconga2021\n",
    "\n",
    "Allí accedemos a la carpeta de la práctica:\n",
    "\n",
    "**`cd /home/pi/LACoNGA`**\n",
    "\n",
    "## Configuración del detector\n",
    "\n",
    "La configuración de los parámetros de adquisición así como la toma de datos se hacen mediante la interfaz **minicom**. Para configurar los parámetros (umbral de discriminación, ventanas de coincidencias y número de coincidencias) se emplean los comandos descritos en el archivo (Escaramujo_User_Guide). \n",
    "\n",
    "Para configurar los parámetros de adquisición entramos a la intefaz ejecutando:\n",
    "\n",
    "**`minicom`**\n",
    "\n",
    "Un vez dentro configuramos por ejemplo el umbral de adquisición tecleando el comando:\n",
    "\n",
    "**`TL 4 30`**\n",
    "\n",
    "Esto estalece un umbral de discriminación de 30 mV en los 4 canales de adquisición. Para salir de la interfaz tecleamos.\n",
    "\n",
    "**`Ctrl+A x`** y enter\n",
    "\n",
    "Cuando configuremos los parámetros de adquisición procedemos a tomar los datos. Para ello ejecutamos:\n",
    "\n",
    "**`minicom -C File_name.dat`**\n",
    "\n",
    "y dentro de la interfaz ejecutamos\n",
    "\n",
    "**`CE`** -- habilita el contador de eventos\n",
    "\n",
    "Los datos mostrados en pantalla serán almacenados en el archivo **File_name.dat**. Para terminar la adquisición ejecutamos:\n",
    "\n",
    "**`CD`** -- deshabilita el contador de eventos\n",
    "\n",
    "Una vez más salimos del minicom con **`Ctrl+A x`** y enter. Este procedimiento se ejecuta siempre que se quiera adquirir cambiando los parámetros de adquisición.\n",
    "\n",
    "## Calibración del detector\n",
    "\n",
    "Primero el estudiante debe calibrar el umbral de detección. Para ello el estudiante debe tomar 5 minutos de datos cambiando el umbral de discriminación de 50 a 300 mV con paso de 25 mV. Luego se determina el umbral óptimo mediante la gráfica de flujo (conteos/s o conteos/min) vs umbral y estimando el flujo esperado en los 3 paneles centelladores de (25 cm x 25 cm) a 990 m s.n.m.\n",
    "\n",
    "**NOTA :** Tener cuidado con el nombre del archivo, use uno inconfundible ;).\n",
    "\n",
    "## Medición de la tasa de EAS\n",
    "\n",
    "Para la medición de lluvias aréreas extensas configurar el detector en coincidencia 2-Fold y establecer la ventana de coincidencia (ver Escaramujo User Guide). Se recomienda adquirir 3 o 4 horas de datos para obtener una buena estadística.\n",
    "\n",
    "## Descarga de los archivos\n",
    "\n",
    "Ahora debemos copiar los datos a nuestro PC. Para ello primero lo copiamos al servidor **Obatala** y luego a nuestro PC. Ejecutamos:\n",
    "\n",
    "**`scp File_name.dat lacongalab@10.5.5.46:/home/lacongalab`**\n",
    "\n",
    "pass: admin\n",
    "\n",
    "Y ahora desde nuestra carpeta local (en nuestro PC) desde otro terminal ejecutamos:\n",
    "\n",
    "**`scp lacongalab@200.16.117.76:/home/lacongalab/File_name.dat .`**\n",
    "\n",
    "pass: admin\n",
    "\n",
    "En este puto ya tenemos los datos en nuestro PC y podemos procesarlos :) :) :)."
   ]
  },
  {
   "cell_type": "markdown",
   "metadata": {},
   "source": [
    "# Procesamiento"
   ]
  },
  {
   "cell_type": "markdown",
   "metadata": {},
   "source": [
    "Para el procesamiento de los datos se recomienda entender la estructura de los datos (ver Escaramujo User Guide)."
   ]
  },
  {
   "cell_type": "code",
   "execution_count": 2,
   "metadata": {
    "collapsed": true
   },
   "outputs": [],
   "source": [
    "import matplotlib\n",
    "import numpy as np\n",
    "import matplotlib.pyplot as plt\n",
    "import math\n",
    "import csv, operator\n",
    "import scipy.stats as st\n",
    "from numpy import random\n",
    "import pandas as pd\n",
    "from datetime import datetime\n",
    "from pandas import DataFrame as df\n",
    "\n",
    "matplotlib.pyplot.savefig\n",
    "\n",
    "%matplotlib inline  "
   ]
  },
  {
   "cell_type": "markdown",
   "metadata": {},
   "source": [
    "### Cargar datos ..."
   ]
  },
  {
   "cell_type": "markdown",
   "metadata": {
    "collapsed": true
   },
   "source": [
    "### Calibración ..."
   ]
  },
  {
   "cell_type": "markdown",
   "metadata": {},
   "source": [
    "### Tasa de lluvias aéreas extensas ..."
   ]
  },
  {
   "cell_type": "code",
   "execution_count": null,
   "metadata": {
    "collapsed": true
   },
   "outputs": [],
   "source": []
  }
 ],
 "metadata": {
  "kernelspec": {
   "display_name": "Python 2",
   "language": "python",
   "name": "python2"
  },
  "language_info": {
   "codemirror_mode": {
    "name": "ipython",
    "version": 2
   },
   "file_extension": ".py",
   "mimetype": "text/x-python",
   "name": "python",
   "nbconvert_exporter": "python",
   "pygments_lexer": "ipython2",
   "version": "2.7.6"
  }
 },
 "nbformat": 4,
 "nbformat_minor": 0
}
