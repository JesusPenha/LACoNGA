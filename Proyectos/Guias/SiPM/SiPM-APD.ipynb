{
 "cells": [
  {
   "cell_type": "markdown",
   "metadata": {},
   "source": [
    "# Caracterización de SiPM/APDs"
   ]
  },
  {
   "cell_type": "markdown",
   "metadata": {},
   "source": [
    "<img src=\"Montaje_SiPM.png\" style=\"width: 700px;\"/>\n",
    "\n",
    "Este notebook describe el procediminto para la toma de datos, control de parámetros y carga de datos para su posterior análisis.\n",
    "\n",
    "El acceso al laboratorio se hace por SSH desde un terminal. Primero debemos ingresar al servidor central Obatala mediante el comando:\n",
    "\n",
    "**`ssh lacongalab@200.16.117.76`**\n",
    "\n",
    "pass: pedir al admin\n",
    "\n",
    "Luego para ingresar al sistema de adquisición y de control de los SiPM usaremos:\n",
    "\n",
    "####  DAQ server\n",
    "\n",
    "**`ssh root@10.1.28.29`**\n",
    "\n",
    "pass: root\n",
    "\n",
    "####  Control server\n",
    "\n",
    "**`ssh pi@10.1.28.81`**\n",
    "\n",
    "pass: laconga2021\n",
    "\n",
    "## Adquisición de pulsos\n",
    "\n",
    "Este procedimiento se hace para parametrizar la ganancia, espectro de fotoelectrón y ruido del SiPM.\n",
    "Primero debemos establecer el voltaje de polarización y temperatura del SiPM. Para ello entramos al **Control server**. Allí accedemos a la carpeta de la práctica:\n",
    "\n",
    "**`cd /home/pi/LACoNGA`**\n",
    "\n",
    "Una vez en la carpeta ejecutamos el comando:\n",
    "\n",
    "**`sudo python SiPM_DC.py Ns T V S`**\n",
    "\n",
    "donde Ns es el número de muestras a imprimir en pantalla, T la teperatura que se desea establecer al SiPM, V el voltaje de polarización del SiPM y S el nombre del SiPM según sea el caso (S13360 o CPTA51). Un ejemplo del comando sería:\n",
    "\n",
    "**`sudo python SiPM_DC.py 10 25 56 S13360`**\n",
    "\n",
    "En este caso uso el SiPM S13360. Tomo 10 muestras a una temperatura de 25 grados polarizando a 56 voltios.\n",
    "\n",
    "La ejecución me retorna en pantalla Ns muestras del estado del SiPM en 4 columnas (Tiempo, Temperatura, Voltaje y Corriente). Cada muestra se toma cada 2 segundos.\n",
    "\n",
    "**NOTA :** Se recomienda tomar muestras suficientes (150) hasta verificar que la temperatura del siPM se establece en la requerida. Esto debido a que le SiPM generalmente está a temperatura ambiente del lab (30$ºC$). Una vez termine de mostrar datos en la pantalla, el SiPM se mantendrá con esos parámetros.\n",
    "\n",
    "Ahora ingresamos al **DAQ server**. Una vez dentro ingresamos a la carpeta de la práctica,\n",
    "\n",
    "**`cd /root/LACoNGA`**\n",
    "\n",
    "Una vez allí, ejecutamos la adquisición de pulsos desde el SiPM mediante los comandos:\n",
    "\n",
    "**`systemctl start redpitaya_scpi &`**\n",
    "\n",
    "y\n",
    "\n",
    "**`sudo python Data_Record.py Np File_name`**\n",
    "\n",
    "donde Np es el número de pulsos a adquirir y File_name (sin extensión) el nombre del archivo de salida. Se recomienda adquirir 1000 pulsos para los análisis. Ejemplo:\n",
    "\n",
    "**`sudo python Data_Record.py 200 Test`**\n",
    "\n",
    "En este caso adquiero 200 pulsos y los almaceno en el archivo Test.dat.\n",
    "\n",
    "**NOTA :** Tener cuidado con el nombre del archivo, use uno inconfundible ;).\n",
    "\n",
    "El programa irá mostrando el número de pulsos que se ha adquirido hasta terminar. En este punto ya hemos adquirido los datos para el análisis.\n",
    "\n",
    "Ahora debemos copiar los datos a nuestro PC. Para ello primero lo copiamos al servidor **Obatala** y luego a nuestro PC. Ejecutamos:\n",
    "\n",
    "**`scp File_name.dat lacongalab@10.5.5.46:/home/lacongalab`**\n",
    "\n",
    "pass: admin\n",
    "\n",
    "Y ahora desde nuestra carpeta local (en nuestro PC) desde otro terminal ejecutamos:\n",
    "\n",
    "**`scp lacongalab@200.16.117.76:/home/lacongalab/File_name.dat .`**\n",
    "\n",
    "pass: admin\n",
    "\n",
    "En este puto ya tenemos los datos en nuestro PC y podemos procesarlos :) :) :)."
   ]
  },
  {
   "cell_type": "markdown",
   "metadata": {
    "collapsed": true
   },
   "source": [
    "## Procesamiento"
   ]
  },
  {
   "cell_type": "code",
   "execution_count": 1,
   "metadata": {
    "collapsed": true
   },
   "outputs": [],
   "source": [
    "import numpy as np\n",
    "import matplotlib.pyplot as plt\n",
    "\n",
    "%matplotlib inline  "
   ]
  },
  {
   "cell_type": "markdown",
   "metadata": {},
   "source": [
    "## Cargar datos"
   ]
  },
  {
   "cell_type": "code",
   "execution_count": 2,
   "metadata": {
    "collapsed": true
   },
   "outputs": [],
   "source": [
    "pulses = np.loadtxt('Test.dat').T"
   ]
  },
  {
   "cell_type": "markdown",
   "metadata": {},
   "source": [
    "## Caracterización del SiPM ..."
   ]
  },
  {
   "cell_type": "code",
   "execution_count": null,
   "metadata": {
    "collapsed": true
   },
   "outputs": [],
   "source": []
  }
 ],
 "metadata": {
  "kernelspec": {
   "display_name": "Python 2",
   "language": "python",
   "name": "python2"
  },
  "language_info": {
   "codemirror_mode": {
    "name": "ipython",
    "version": 2
   },
   "file_extension": ".py",
   "mimetype": "text/x-python",
   "name": "python",
   "nbconvert_exporter": "python",
   "pygments_lexer": "ipython2",
   "version": "2.7.6"
  }
 },
 "nbformat": 4,
 "nbformat_minor": 0
}
